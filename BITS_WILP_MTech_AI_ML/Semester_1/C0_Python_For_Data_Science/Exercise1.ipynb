{
 "cells": [
  {
   "cell_type": "markdown",
   "metadata": {},
   "source": [
    "##### Q1: Factorial of Number through Recursion"
   ]
  },
  {
   "cell_type": "code",
   "execution_count": 2,
   "metadata": {},
   "outputs": [
    {
     "data": {
      "text/plain": [
       "120"
      ]
     },
     "execution_count": 2,
     "metadata": {},
     "output_type": "execute_result"
    }
   ],
   "source": [
    "def factorial(n:int) -> int:\n",
    "    if n == 0:\n",
    "        return 1\n",
    "    return n * factorial(n-1)\n",
    "\n",
    "factorial(5)"
   ]
  },
  {
   "cell_type": "markdown",
   "metadata": {},
   "source": [
    "#### Q2: Common elements from a list of numbers"
   ]
  },
  {
   "cell_type": "code",
   "execution_count": null,
   "metadata": {},
   "outputs": [
    {
     "data": {
      "text/plain": [
       "['Hello', 'Buffalo']"
      ]
     },
     "execution_count": 3,
     "metadata": {},
     "output_type": "execute_result"
    }
   ],
   "source": [
    "def find_intersection_bruteforce(list_1: list, list_2: list) -> list:\n",
    "    \"\"\"O(n^2) algorithm\"\"\"\n",
    "    list_3 = []\n",
    "    for list_item in list_1:\n",
    "        if list_item in list_2:\n",
    "            list_3.append(list_item)\n",
    "            \n",
    "    return list_3\n",
    "\n",
    "# Faster way - cast to sets, and use intersect. \n",
    "\n",
    "list_1 = [\"Hello\",\"Buffalo\",\"One\"]\n",
    "list_2=[\"Hello\", \"two\", \"Buffalo\"]\n",
    "\n",
    "find_intersection_bruteforce(list_1, list_2)\n"
   ]
  },
  {
   "cell_type": "markdown",
   "metadata": {},
   "source": [
    "#### Q3: "
   ]
  }
 ],
 "metadata": {
  "kernelspec": {
   "display_name": "c0-python-for-data-science-23OwbtRn-py3.12",
   "language": "python",
   "name": "python3"
  },
  "language_info": {
   "codemirror_mode": {
    "name": "ipython",
    "version": 3
   },
   "file_extension": ".py",
   "mimetype": "text/x-python",
   "name": "python",
   "nbconvert_exporter": "python",
   "pygments_lexer": "ipython3",
   "version": "3.12.7"
  }
 },
 "nbformat": 4,
 "nbformat_minor": 2
}
